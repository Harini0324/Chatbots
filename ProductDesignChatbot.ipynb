{
  "nbformat": 4,
  "nbformat_minor": 0,
  "metadata": {
    "colab": {
      "provenance": [],
      "authorship_tag": "ABX9TyMM4fG2TOM2QsQ/ZVSYb8vO",
      "include_colab_link": true
    },
    "kernelspec": {
      "name": "python3",
      "display_name": "Python 3"
    },
    "language_info": {
      "name": "python"
    }
  },
  "cells": [
    {
      "cell_type": "markdown",
      "metadata": {
        "id": "view-in-github",
        "colab_type": "text"
      },
      "source": [
        "<a href=\"https://colab.research.google.com/github/Harini0324/Chatbots/blob/main/ProductDesignChatbot.ipynb\" target=\"_parent\"><img src=\"https://colab.research.google.com/assets/colab-badge.svg\" alt=\"Open In Colab\"/></a>"
      ]
    },
    {
      "cell_type": "code",
      "source": [
        "import random\n",
        "import nltk\n",
        "import string\n",
        "import numpy as np"
      ],
      "metadata": {
        "id": "9MI4m1ao7hhb"
      },
      "execution_count": 1,
      "outputs": []
    },
    {
      "cell_type": "code",
      "source": [
        "f=open('pdcorpus1.txt','r',errors='ignore')\n",
        "raw_doc=f.read()\n",
        "raw_doc=raw_doc.lower()\n",
        "nltk.download('punkt')\n",
        "nltk.download('wordnet')\n",
        "sent_tokens=nltk.sent_tokenize(raw_doc)\n",
        "word_tokens=nltk.word_tokenize(raw_doc)"
      ],
      "metadata": {
        "colab": {
          "base_uri": "https://localhost:8080/"
        },
        "id": "QRFIpHZ8AFJq",
        "outputId": "fed4614e-02bd-421c-b823-cf4db21f978e"
      },
      "execution_count": 2,
      "outputs": [
        {
          "output_type": "stream",
          "name": "stderr",
          "text": [
            "[nltk_data] Downloading package punkt to /root/nltk_data...\n",
            "[nltk_data]   Unzipping tokenizers/punkt.zip.\n",
            "[nltk_data] Downloading package wordnet to /root/nltk_data...\n"
          ]
        }
      ]
    },
    {
      "cell_type": "code",
      "source": [
        "sent_tokens[:2]"
      ],
      "metadata": {
        "colab": {
          "base_uri": "https://localhost:8080/"
        },
        "id": "XL_MYz6CCoXp",
        "outputId": "d353e366-462b-4279-955c-09e1489be3bb"
      },
      "execution_count": 3,
      "outputs": [
        {
          "output_type": "execute_result",
          "data": {
            "text/plain": [
              "['product design is the process of ideating, creating, and iterating a design to develop a final product that meets a specific user or market need.',\n",
              " 'at this stage in the product development process, you can expect to assess functionality and aesthetics, and make sure that the product meets both business goals and user needs.']"
            ]
          },
          "metadata": {},
          "execution_count": 3
        }
      ]
    },
    {
      "cell_type": "code",
      "source": [
        "word_tokens[:2]"
      ],
      "metadata": {
        "colab": {
          "base_uri": "https://localhost:8080/"
        },
        "id": "O9rsfmvaCyJn",
        "outputId": "ddd5a892-15db-4322-f976-5c37548ae9fb"
      },
      "execution_count": 4,
      "outputs": [
        {
          "output_type": "execute_result",
          "data": {
            "text/plain": [
              "['product', 'design']"
            ]
          },
          "metadata": {},
          "execution_count": 4
        }
      ]
    },
    {
      "cell_type": "code",
      "source": [
        "lemmer=nltk.stem.WordNetLemmatizer()\n",
        "\n",
        "def LemTokens(tokens):\n",
        "  return [lemmer.lemmatize(token) for token in tokens]\n",
        "remove_punct_dict=dict((ord(punct),None) for punct in string.punctuation)\n",
        "\n",
        "def LemNormalize(text):\n",
        "  return LemTokens(nltk.word_tokenize(text.lower().translate(remove_punct_dict)))\n"
      ],
      "metadata": {
        "id": "aUe-PyYlC1FC"
      },
      "execution_count": 5,
      "outputs": []
    },
    {
      "cell_type": "code",
      "source": [
        "greet_inp=(\"hello\",\"hi\",\"hey\")\n",
        "greet_res=[\"hi\",\"welcome\",\"hello\"]\n",
        "\n",
        "def greet(sen):\n",
        "  for word in sen.split():\n",
        "    if word.lower() in greet_inp:\n",
        "      return random.choice(greet_res)"
      ],
      "metadata": {
        "id": "NwiZETYfDZyv"
      },
      "execution_count": 6,
      "outputs": []
    },
    {
      "cell_type": "code",
      "source": [
        "from sklearn.feature_extraction.text import TfidfVectorizer\n",
        "from sklearn.metrics.pairwise import cosine_similarity\n",
        "#Tfidf - term frequency and inverse document frequency"
      ],
      "metadata": {
        "id": "qR_LJKxLDzP7"
      },
      "execution_count": 7,
      "outputs": []
    },
    {
      "cell_type": "code",
      "source": [
        "def response(user):\n",
        "  robo1_response=''\n",
        "  TfidVec=TfidfVectorizer(tokenizer=LemNormalize)\n",
        "  tfidf=TfidVec.fit_transform(sent_tokens)\n",
        "  vals=cosine_similarity(tfidf[-1],tfidf)\n",
        "  idx=vals.argsort()[0][-2]\n",
        "  flat=vals.flatten()\n",
        "  flat.sort()\n",
        "  req_tfidf=flat[-2]\n",
        "  if(req_tfidf==0):\n",
        "    robo1_response=robo1_response+\"I am sorry! I don't understand you!\"\n",
        "    return robo1_response\n",
        "  else:\n",
        "    robo1_response=robo1_response+sent_tokens[idx]\n",
        "    return robo1_response\n"
      ],
      "metadata": {
        "id": "mdQM_hZ7ECsQ"
      },
      "execution_count": 10,
      "outputs": []
    },
    {
      "cell_type": "code",
      "source": [
        "flag=True\n",
        "print(\"BOT:My name is Yellow. Let's have a converstation about product designing! Also, if you want to exit, just type - bye\")\n",
        "while(flag==True):\n",
        "  user_response=input()\n",
        "  user_response=user_response.lower()\n",
        "  if(user_response!='bye'):\n",
        "    if(user_response==\"thanks\" or user_response=='thank you'):\n",
        "      flag=False\n",
        "      print(\"BOT:You're Welcome...\")\n",
        "    else:\n",
        "      if(greet(user_response)!=None):\n",
        "        print(\"BOT: \",greet(user_response))\n",
        "      else:\n",
        "        sent_tokens.append(user_response)\n",
        "        word_tokens=word_tokens+nltk.word_tokenize(user_response)\n",
        "        final_words=list(set(word_tokens))\n",
        "        print(\"BOT: \",end=\"\")\n",
        "        print(response(user_response))\n",
        "        sent_tokens.remove(user_response)\n",
        "  else:\n",
        "    flag=False\n",
        "    print(\"BOT: GoodBye! Take care <3 \")"
      ],
      "metadata": {
        "colab": {
          "base_uri": "https://localhost:8080/"
        },
        "id": "XzViNBO3Erkz",
        "outputId": "5fde8e3a-5457-4093-fd2d-777eec47b9cd"
      },
      "execution_count": 12,
      "outputs": [
        {
          "output_type": "stream",
          "name": "stdout",
          "text": [
            "BOT:My name is Yellow. Let's have a converstation about product designing! Also, if you want to exit, just type - bye\n",
            "Hello\n",
            "BOT:  hello\n",
            "What is product design\n",
            "BOT: product design is the process of ideating, creating, and iterating a design to develop a final product that meets a specific user or market need.\n",
            "what is the ideation phase here\n",
            "BOT: the ideation phase of product design involves brainstorming the product’s key features to solve a problem.\n",
            "What are the key elements of product design\n",
            "BOT: 5 key elements of product design\n",
            "functionality\n",
            "aesthetics\n",
            "quality\n",
            "sustainability\n",
            "user experience\n",
            "what is crucial for product\n",
            "BOT: incorporating user feedback can reduce the risk of costly changes later in the product development process\n",
            "\n",
            "testing is crucial to determine if the product functions correctly.\n",
            "bye\n",
            "BOT: GoodBye! Take care <3 \n"
          ]
        }
      ]
    }
  ]
}